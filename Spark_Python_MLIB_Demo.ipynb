{
 "cells": [
  {
   "cell_type": "code",
   "execution_count": 1,
   "metadata": {
    "collapsed": true
   },
   "outputs": [],
   "source": [
    "import os,sys"
   ]
  },
  {
   "cell_type": "code",
   "execution_count": 2,
   "metadata": {
    "collapsed": true
   },
   "outputs": [],
   "source": [
    "os.environ[\"SPARK_HOME\"] = \"C:/spark\"\n",
    "os.environ[\"PYLIB\"] =\"C:/spark/python/lib\"\n",
    "sys.path.insert(0,os.environ[\"PYLIB\"] + \"/py4j-0.10.4-src.zip\" )\n",
    "sys.path.insert(0,os.environ[\"PYLIB\"] + \"/pyspark.zip\" )"
   ]
  },
  {
   "cell_type": "code",
   "execution_count": 3,
   "metadata": {
    "collapsed": true
   },
   "outputs": [],
   "source": [
    "from pyspark.sql import SparkSession\n",
    "from pyspark import SparkContext\n",
    "sc = SparkContext()"
   ]
  },
  {
   "cell_type": "code",
   "execution_count": 4,
   "metadata": {
    "collapsed": false
   },
   "outputs": [
    {
     "data": {
      "text/plain": [
       "<pyspark.sql.session.SparkSession at 0x6ba5400>"
      ]
     },
     "execution_count": 4,
     "metadata": {},
     "output_type": "execute_result"
    }
   ],
   "source": [
    "spark_session = SparkSession(sc).builder.appName(\"Machine Learning Demo\").master('local').getOrCreate()\n",
    "spark_session"
   ]
  },
  {
   "cell_type": "code",
   "execution_count": 14,
   "metadata": {
    "collapsed": false
   },
   "outputs": [],
   "source": [
    "# Read and split data in 80:20 ratio's\n",
    "data = spark_session.read.format(\"libsvm\").load(\"visitors_demo.txt\")\n",
    "train, test = data.randomSplit([0.8, 0.2], seed=12345)"
   ]
  },
  {
   "cell_type": "code",
   "execution_count": 15,
   "metadata": {
    "collapsed": true
   },
   "outputs": [],
   "source": [
    "from pyspark.ml.classification import LogisticRegression\n",
    "lr = LogisticRegression()"
   ]
  },
  {
   "cell_type": "code",
   "execution_count": 16,
   "metadata": {
    "collapsed": false
   },
   "outputs": [],
   "source": [
    "# Fit the model\n",
    "lrModel = lr.fit(train)\n",
    "trainingSummary = lrModel.summary"
   ]
  },
  {
   "cell_type": "code",
   "execution_count": 17,
   "metadata": {
    "collapsed": false
   },
   "outputs": [
    {
     "data": {
      "text/plain": [
       "<pyspark.ml.classification.BinaryLogisticRegressionTrainingSummary at 0x6f55278>"
      ]
     },
     "execution_count": 17,
     "metadata": {},
     "output_type": "execute_result"
    }
   ],
   "source": [
    "trainingSummary"
   ]
  },
  {
   "cell_type": "code",
   "execution_count": 18,
   "metadata": {
    "collapsed": false
   },
   "outputs": [
    {
     "name": "stdout",
     "output_type": "stream",
     "text": [
      "+-----+--------------------+--------------------+--------------------+----------+\n",
      "|label|            features|       rawPrediction|         probability|prediction|\n",
      "+-----+--------------------+--------------------+--------------------+----------+\n",
      "|  0.0|(692,[95,96,97,12...|[21.6317654290919...|[0.99999999959687...|       0.0|\n",
      "|  0.0|(692,[98,99,100,1...|[29.1669451144556...|[0.99999999999978...|       0.0|\n",
      "|  0.0|(692,[100,101,102...|[19.5384623182738...|[0.99999999672995...|       0.0|\n",
      "|  0.0|(692,[121,122,123...|[20.4308944645952...|[0.99999999866039...|       0.0|\n",
      "|  0.0|(692,[122,123,148...|[20.8725477109517...|[0.99999999913867...|       0.0|\n",
      "|  0.0|(692,[123,124,125...|[31.8576743192384...|[0.99999999999998...|       0.0|\n",
      "|  0.0|(692,[124,125,126...|[21.6271328593757...|[0.99999999959499...|       0.0|\n",
      "|  0.0|(692,[124,125,126...|[31.1364217577289...|[0.99999999999997...|       0.0|\n",
      "|  0.0|(692,[124,125,126...|[28.2664031423809...|[0.99999999999947...|       0.0|\n",
      "|  0.0|(692,[124,125,126...|[22.1584408372896...|[0.99999999976192...|       0.0|\n",
      "|  0.0|(692,[124,125,126...|[24.0935200010322...|[0.99999999996561...|       0.0|\n",
      "|  0.0|(692,[124,125,126...|[20.3504287837462...|[0.99999999854815...|       0.0|\n",
      "|  0.0|(692,[126,127,128...|[32.6103296560075...|[0.99999999999999...|       0.0|\n",
      "|  0.0|(692,[126,127,128...|[19.5657312445981...|[0.99999999681792...|       0.0|\n",
      "|  0.0|(692,[126,127,128...|[23.1424378615029...|[0.99999999991100...|       0.0|\n",
      "|  0.0|(692,[126,127,128...|[25.7531304397436...|[0.99999999999346...|       0.0|\n",
      "|  0.0|(692,[126,127,128...|[23.9549242452080...|[0.99999999996050...|       0.0|\n",
      "|  0.0|(692,[126,127,128...|[22.2920344121606...|[0.99999999979169...|       0.0|\n",
      "|  0.0|(692,[127,128,129...|[20.7007335425413...|[0.99999999897721...|       0.0|\n",
      "|  0.0|(692,[127,128,129...|[22.8454385795570...|[0.99999999988022...|       0.0|\n",
      "+-----+--------------------+--------------------+--------------------+----------+\n",
      "only showing top 20 rows\n",
      "\n"
     ]
    }
   ],
   "source": [
    "trainingSummary.predictions.show()"
   ]
  },
  {
   "cell_type": "code",
   "execution_count": 19,
   "metadata": {
    "collapsed": false
   },
   "outputs": [],
   "source": [
    "from pyspark.mllib.evaluation import MulticlassMetrics\n",
    "lrModel.evaluate(test)\n",
    "predictionAndLabels = lrModel.evaluate(test)"
   ]
  },
  {
   "cell_type": "code",
   "execution_count": 20,
   "metadata": {
    "collapsed": false
   },
   "outputs": [
    {
     "name": "stdout",
     "output_type": "stream",
     "text": [
      "+-----+--------------------+--------------------+--------------------+----------+\n",
      "|label|            features|       rawPrediction|         probability|prediction|\n",
      "+-----+--------------------+--------------------+--------------------+----------+\n",
      "|  0.0|(692,[122,123,124...|[16.5552884752723...|[0.99999993541531...|       0.0|\n",
      "|  0.0|(692,[123,124,125...|[29.4623128061463...|[0.99999999999983...|       0.0|\n",
      "|  0.0|(692,[123,124,125...|[18.7544818647511...|[0.99999999283803...|       0.0|\n",
      "|  0.0|(692,[125,126,127...|[23.6186440119655...|[0.99999999994472...|       0.0|\n",
      "|  0.0|(692,[126,127,128...|[27.7382587359914...|[0.99999999999910...|       0.0|\n",
      "|  0.0|(692,[126,127,128...|[21.2554598059638...|[0.99999999941268...|       0.0|\n",
      "|  0.0|(692,[153,154,155...|[29.6607503169545...|[0.99999999999986...|       0.0|\n",
      "|  0.0|(692,[155,156,180...|[26.0487784075924...|[0.99999999999513...|       0.0|\n",
      "|  0.0|(692,[234,235,237...|[5.32088955575381...|[0.99513537695598...|       0.0|\n",
      "|  1.0|(692,[123,124,125...|[-20.736909385352...|[9.86449101984402...|       1.0|\n",
      "|  1.0|(692,[124,125,126...|[-23.047832995837...|[9.78257778973490...|       1.0|\n",
      "|  1.0|(692,[127,128,129...|[-24.092863928589...|[3.44034616027990...|       1.0|\n",
      "|  1.0|(692,[128,129,130...|[-27.493663856575...|[1.14723793679738...|       1.0|\n",
      "|  1.0|(692,[128,129,130...|[-18.524251457085...|[9.01612256530793...|       1.0|\n",
      "|  1.0|(692,[128,129,155...|[-20.325567171512...|[1.48839545511109...|       1.0|\n",
      "|  1.0|(692,[129,130,131...|[-25.776633653049...|[6.38778429697602...|       1.0|\n",
      "|  1.0|(692,[129,130,131...|[-19.395080225579...|[3.77418931102862...|       1.0|\n",
      "|  1.0|(692,[151,152,153...|[-20.941132099952...|[8.04232989530145...|       1.0|\n",
      "|  1.0|(692,[155,156,157...|[-22.100871074165...|[2.52181745915180...|       1.0|\n",
      "+-----+--------------------+--------------------+--------------------+----------+\n",
      "\n",
      "+-----+----------+\n",
      "|label|prediction|\n",
      "+-----+----------+\n",
      "|  0.0|       0.0|\n",
      "|  0.0|       0.0|\n",
      "|  0.0|       0.0|\n",
      "|  0.0|       0.0|\n",
      "|  0.0|       0.0|\n",
      "|  0.0|       0.0|\n",
      "|  0.0|       0.0|\n",
      "|  0.0|       0.0|\n",
      "|  0.0|       0.0|\n",
      "|  1.0|       1.0|\n",
      "|  1.0|       1.0|\n",
      "|  1.0|       1.0|\n",
      "|  1.0|       1.0|\n",
      "|  1.0|       1.0|\n",
      "|  1.0|       1.0|\n",
      "|  1.0|       1.0|\n",
      "|  1.0|       1.0|\n",
      "|  1.0|       1.0|\n",
      "|  1.0|       1.0|\n",
      "+-----+----------+\n",
      "\n"
     ]
    }
   ],
   "source": [
    "predictionAndLabels.predictions.show()\n",
    "\n",
    "predictionAndLabels = predictionAndLabels.predictions.select('label','prediction')\n",
    "\n",
    "\n",
    "predictionAndLabels.show()"
   ]
  },
  {
   "cell_type": "code",
   "execution_count": 21,
   "metadata": {
    "collapsed": true
   },
   "outputs": [],
   "source": [
    "# Evaluate Model using Binary Classificationn "
   ]
  },
  {
   "cell_type": "code",
   "execution_count": 22,
   "metadata": {
    "collapsed": false
   },
   "outputs": [
    {
     "data": {
      "text/plain": [
       "1.0"
      ]
     },
     "execution_count": 22,
     "metadata": {},
     "output_type": "execute_result"
    }
   ],
   "source": [
    "from pyspark.ml.evaluation import BinaryClassificationEvaluator,MulticlassClassificationEvaluator\n",
    "\n",
    "evaluator = BinaryClassificationEvaluator(rawPredictionCol='prediction', labelCol='label')\n",
    "\n",
    "# For multiclass\n",
    "evaluator = MulticlassClassificationEvaluator(predictionCol='prediction', labelCol='label',\n",
    "                                             metricName='accuracy')\n",
    "\n",
    "# Evaluate Accuracy of the model \n",
    "acc = evaluator.evaluate(predictionAndLabels)\n",
    "\n"
   ]
  },
  {
   "cell_type": "code",
   "execution_count": 25,
   "metadata": {
    "collapsed": false
   },
   "outputs": [
    {
     "data": {
      "text/plain": [
       "1.0"
      ]
     },
     "execution_count": 25,
     "metadata": {},
     "output_type": "execute_result"
    }
   ],
   "source": [
    "evaluator = MulticlassClassificationEvaluator(predictionCol='prediction', labelCol='label', metricName='f1')\n",
    "# Evaluate F1 score for the model\n",
    "f1 = evaluator.evaluate(predictionAndLabels)\n",
    "f1"
   ]
  },
  {
   "cell_type": "code",
   "execution_count": null,
   "metadata": {
    "collapsed": true
   },
   "outputs": [],
   "source": []
  },
  {
   "cell_type": "code",
   "execution_count": null,
   "metadata": {
    "collapsed": true
   },
   "outputs": [],
   "source": []
  },
  {
   "cell_type": "code",
   "execution_count": null,
   "metadata": {
    "collapsed": true
   },
   "outputs": [],
   "source": []
  }
 ],
 "metadata": {
  "kernelspec": {
   "display_name": "Python 2",
   "language": "python",
   "name": "python2"
  },
  "language_info": {
   "codemirror_mode": {
    "name": "ipython",
    "version": 2
   },
   "file_extension": ".py",
   "mimetype": "text/x-python",
   "name": "python",
   "nbconvert_exporter": "python",
   "pygments_lexer": "ipython2",
   "version": "2.7.13"
  }
 },
 "nbformat": 4,
 "nbformat_minor": 2
}
